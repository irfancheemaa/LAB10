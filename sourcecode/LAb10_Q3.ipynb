{
  "nbformat": 4,
  "nbformat_minor": 0,
  "metadata": {
    "colab": {
      "name": "LAb10_Q3.ipynb",
      "provenance": []
    },
    "kernelspec": {
      "name": "python3",
      "display_name": "Python 3"
    },
    "language_info": {
      "name": "python"
    }
  },
  "cells": [
    {
      "cell_type": "code",
      "metadata": {
        "id": "j8KdcLVEifEe"
      },
      "source": [
        "#import library/packages \n",
        "from keras.models import Sequential\n",
        "from keras.layers import Embedding\n",
        "from keras import layers\n",
        "from keras.preprocessing.text import Tokenizer\n",
        "import pandas as pd\n",
        "from sklearn import preprocessing\n",
        "from sklearn.model_selection import train_test_split\n",
        "from matplotlib import pyplot as plt\n",
        "from keras.preprocessing import sequence\n",
        "from keras.layers import LSTM\n",
        "from keras.layers import Flatten\n",
        "from keras.preprocessing.sequence import pad_sequences\n",
        "from sklearn.datasets import fetch_20newsgroups\n",
        "\n",
        "from sklearn.feature_extraction.text import CountVectorizer, TfidfVectorizer\n",
        "from sklearn.feature_extraction.text import TfidfTransformer\n",
        "from sklearn import metrics"
      ],
      "execution_count": 1,
      "outputs": []
    },
    {
      "cell_type": "code",
      "metadata": {
        "id": "hiPoV7zoimMk"
      },
      "source": [
        "target_names = [\n",
        "    'alt.atheism',\n",
        "    'talk.religion.misc',\n",
        "    'comp.graphics',\n",
        "    'sci.space'\n",
        "]\n",
        "\n",
        "newsgroups_train =fetch_20newsgroups(subset='train', shuffle=True, categories=target_names)"
      ],
      "execution_count": 2,
      "outputs": []
    },
    {
      "cell_type": "code",
      "metadata": {
        "id": "bxyueKkol-KD"
      },
      "source": [
        "x = newsgroups_train.data\n",
        "y = newsgroups_train.target"
      ],
      "execution_count": 3,
      "outputs": []
    },
    {
      "cell_type": "code",
      "metadata": {
        "id": "zQqqokacrT1Z"
      },
      "source": [
        "for i in range(11):\n",
        "  print(x[i])"
      ],
      "execution_count": null,
      "outputs": []
    },
    {
      "cell_type": "code",
      "metadata": {
        "id": "89SkdtwnmYX1"
      },
      "source": [
        "#tokenizing data \n",
        "tokenizer = Tokenizer(num_words=2000)\n",
        "tokenizer.fit_on_texts(x)\n",
        "#getting the vocabulary of data\n",
        "#sentences = tokenizer.texts_to_matrix(sentences)"
      ],
      "execution_count": 29,
      "outputs": []
    },
    {
      "cell_type": "code",
      "metadata": {
        "id": "CcUIDy3TmcPS"
      },
      "source": [
        "#preparing data for embedding layer\n",
        "max_review_len = max([len(s.split()) for s in x])\n",
        "vocab_size = len(tokenizer.word_index)+1\n",
        "sentences = tokenizer.texts_to_sequences(x)\n",
        "padded_docs = pad_sequences(sentences,maxlen=max_review_len)"
      ],
      "execution_count": 7,
      "outputs": []
    },
    {
      "cell_type": "code",
      "metadata": {
        "colab": {
          "base_uri": "https://localhost:8080/"
        },
        "id": "_rqocrn1mnyt",
        "outputId": "c3f0efe3-8297-468a-c76d-188d9a41267b"
      },
      "source": [
        "le = preprocessing.LabelEncoder() #using label encoder to encode text data\n",
        "y = le.fit_transform(y) #passing in my target label to encode \n",
        "X_train, X_test, y_train, y_test = train_test_split(padded_docs, y, test_size=0.25, random_state = 1000) #traning data\n",
        "X_train.shape,y_train.shape"
      ],
      "execution_count": 46,
      "outputs": [
        {
          "output_type": "execute_result",
          "data": {
            "text/plain": [
              "((1525, 9168), (1525,))"
            ]
          },
          "metadata": {
            "tags": []
          },
          "execution_count": 46
        }
      ]
    },
    {
      "cell_type": "code",
      "metadata": {
        "id": "I1DtWMkRns5m"
      },
      "source": [
        "#number of features \n",
        "input_dim = 9168\n",
        "model = Sequential()\n",
        "model.add(Embedding(vocab_size, 50, input_length=max_review_len))\n",
        "\n",
        "model.add(Flatten())\n",
        "model.add(layers.Dense(300, input_dim = input_dim,activation='relu'))\n",
        "model.add(layers.Dense(1, activation='sigmoid'))\n",
        "model.compile(loss='binary_crossentropy', optimizer='adam', metrics=['acc'])"
      ],
      "execution_count": 47,
      "outputs": []
    },
    {
      "cell_type": "code",
      "metadata": {
        "colab": {
          "base_uri": "https://localhost:8080/"
        },
        "id": "6xtYrrkqnzgA",
        "outputId": "34327966-d222-4e33-b2ce-6880792c1a38"
      },
      "source": [
        "model.summary() #getting the summary of my model"
      ],
      "execution_count": 48,
      "outputs": [
        {
          "output_type": "stream",
          "text": [
            "Model: \"sequential_9\"\n",
            "_________________________________________________________________\n",
            "Layer (type)                 Output Shape              Param #   \n",
            "=================================================================\n",
            "embedding_9 (Embedding)      (None, 9168, 50)          1741550   \n",
            "_________________________________________________________________\n",
            "flatten_9 (Flatten)          (None, 458400)            0         \n",
            "_________________________________________________________________\n",
            "dense_17 (Dense)             (None, 300)               137520300 \n",
            "_________________________________________________________________\n",
            "dense_18 (Dense)             (None, 1)                 301       \n",
            "=================================================================\n",
            "Total params: 139,262,151\n",
            "Trainable params: 139,262,151\n",
            "Non-trainable params: 0\n",
            "_________________________________________________________________\n"
          ],
          "name": "stdout"
        }
      ]
    },
    {
      "cell_type": "code",
      "metadata": {
        "colab": {
          "base_uri": "https://localhost:8080/"
        },
        "id": "kIMhpMOLn1ea",
        "outputId": "f4f35d74-9e8f-441a-e0b4-5009e22375de"
      },
      "source": [
        "history=model.fit(X_train,y_train, epochs=5, verbose=True, validation_data=(X_test,y_test), batch_size=256)"
      ],
      "execution_count": 49,
      "outputs": [
        {
          "output_type": "stream",
          "text": [
            "Epoch 1/5\n",
            "6/6 [==============================] - 38s 6s/step - loss: -58.3039 - acc: 0.2720 - val_loss: -270.7722 - val_acc: 0.3124\n",
            "Epoch 2/5\n",
            "6/6 [==============================] - 36s 6s/step - loss: -382.1297 - acc: 0.2708 - val_loss: -735.8097 - val_acc: 0.3124\n",
            "Epoch 3/5\n",
            "6/6 [==============================] - 36s 6s/step - loss: -870.4702 - acc: 0.2796 - val_loss: -1450.1364 - val_acc: 0.3124\n",
            "Epoch 4/5\n",
            "6/6 [==============================] - 36s 6s/step - loss: -1795.8555 - acc: 0.2811 - val_loss: -2512.3621 - val_acc: 0.3124\n",
            "Epoch 5/5\n",
            "6/6 [==============================] - 35s 6s/step - loss: -2842.3599 - acc: 0.2768 - val_loss: -4017.5447 - val_acc: 0.3124\n"
          ],
          "name": "stdout"
        }
      ]
    },
    {
      "cell_type": "code",
      "metadata": {
        "colab": {
          "base_uri": "https://localhost:8080/",
          "height": 295
        },
        "id": "ZzmDrUYotBrg",
        "outputId": "c395f6f2-55ca-47ba-a1ad-76e103a63491"
      },
      "source": [
        "plt.figure()\n",
        "plt.plot(history.history['acc'], label='Train')\n",
        "plt.plot(history.history['val_acc'], label='Test')\n",
        "plt.title('Accuracy')\n",
        "plt.ylabel('Accuracy')\n",
        "plt.xlabel('epochs')\n",
        "plt.legend()\n",
        "plt.show()"
      ],
      "execution_count": 40,
      "outputs": [
        {
          "output_type": "display_data",
          "data": {
            "image/png": "[encoded data removed]",
            "text/plain": [
              "<Figure size 432x288 with 1 Axes>"
            ]
          },
          "metadata": {
            "tags": [],
            "needs_background": "light"
          }
        }
      ]
    },
    {
      "cell_type": "code",
      "metadata": {
        "colab": {
          "base_uri": "https://localhost:8080/",
          "height": 295
        },
        "id": "2XpCc3u6tEnf",
        "outputId": "6b49e5f1-6da3-4367-b7ca-5f3523c80e5d"
      },
      "source": [
        "plt.figure()\n",
        "plt.plot(history.history['loss'], label='Train')\n",
        "plt.plot(history.history['val_loss'], label='Test')\n",
        "plt.title('Loss')\n",
        "plt.ylabel('Accuracy')\n",
        "plt.xlabel('Epochs')\n",
        "plt.legend()\n",
        "plt.show()"
      ],
      "execution_count": 41,
      "outputs": [
        {
          "output_type": "display_data",
          "data": {
            "image/png": "[encoded data removed]",
            "text/plain": [
              "<Figure size 432x288 with 1 Axes>"
            ]
          },
          "metadata": {
            "tags": [],
            "needs_background": "light"
          }
        }
      ]
    }
  ]
}