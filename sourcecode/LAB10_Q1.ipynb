{
  "nbformat": 4,
  "nbformat_minor": 0,
  "metadata": {
    "colab": {
      "name": "LAB10_Q1.ipynb",
      "provenance": [],
      "collapsed_sections": []
    },
    "kernelspec": {
      "name": "python3",
      "display_name": "Python 3"
    },
    "language_info": {
      "name": "python"
    }
  },
  "cells": [
    {
      "cell_type": "code",
      "metadata": {
        "id": "Rz2XdLq6a5w8"
      },
      "source": [
        "#import library/packages \n",
        "from keras.models import Sequential\n",
        "from keras.layers import Embedding\n",
        "from keras import layers\n",
        "from keras.preprocessing.text import Tokenizer\n",
        "import pandas as pd\n",
        "from sklearn import preprocessing\n",
        "from sklearn.model_selection import train_test_split\n",
        "from matplotlib import pyplot as plt\n",
        "from keras.preprocessing import sequence\n",
        "from keras.layers import LSTM\n",
        "from keras.layers import Flatten"
      ],
      "execution_count": 42,
      "outputs": []
    },
    {
      "cell_type": "code",
      "metadata": {
        "colab": {
          "base_uri": "https://localhost:8080/"
        },
        "id": "6XdFKHBlbv7A",
        "outputId": "5bfd0b65-d2d0-4342-b9b5-aba97cba12f7"
      },
      "source": [
        "df = pd.read_csv('/content/imdb_master.csv', encoding='latin-1')\n",
        "print(df.head())\n",
        "sentences = df['review'].values\n",
        "y = df['label'].values "
      ],
      "execution_count": 43,
      "outputs": [
        {
          "output_type": "stream",
          "text": [
            "   Unnamed: 0  type  ... label         file\n",
            "0           0  test  ...   neg      0_2.txt\n",
            "1           1  test  ...   neg  10000_4.txt\n",
            "2           2  test  ...   neg  10001_1.txt\n",
            "3           3  test  ...   neg  10002_3.txt\n",
            "4           4  test  ...   neg  10003_3.txt\n",
            "\n",
            "[5 rows x 5 columns]\n"
          ],
          "name": "stdout"
        }
      ]
    },
    {
      "cell_type": "code",
      "metadata": {
        "id": "ARTxFPd8cYXD"
      },
      "source": [
        "#tokenizing data \n",
        "tokenizer = Tokenizer(num_words=2000)\n",
        "tokenizer.fit_on_texts(sentences)\n",
        "#getting the vocabulary of data\n",
        "sentences = tokenizer.texts_to_matrix(sentences)"
      ],
      "execution_count": 44,
      "outputs": []
    },
    {
      "cell_type": "code",
      "metadata": {
        "colab": {
          "base_uri": "https://localhost:8080/"
        },
        "id": "iJUz_9RedNfz",
        "outputId": "b8df0ae0-0551-4e76-bb8a-b3a20548aebd"
      },
      "source": [
        "le = preprocessing.LabelEncoder() #using label encoder to encode text data\n",
        "y = le.fit_transform(y) #passing in my target label to encode \n",
        "X_train, X_test, y_train, y_test = train_test_split(sentences, y, test_size=0.25, random_state = 1000) #traning data\n",
        "X_train.shape,y_train.shape"
      ],
      "execution_count": 45,
      "outputs": [
        {
          "output_type": "execute_result",
          "data": {
            "text/plain": [
              "((75000, 2000), (75000,))"
            ]
          },
          "metadata": {
            "tags": []
          },
          "execution_count": 45
        }
      ]
    },
    {
      "cell_type": "markdown",
      "metadata": {
        "id": "DiQd9MJsenUc"
      },
      "source": [
        "1. The first mistake was that the input_dim variable had no number assigned.\n",
        "2. Changing the second dense layer from 5 to 3.\n",
        "3. Nothing else changed. The model runs fine. \n"
      ]
    },
    {
      "cell_type": "code",
      "metadata": {
        "id": "MOWdTNXXdtau"
      },
      "source": [
        "#number of features \n",
        "input_dim = 2000\n",
        "model = Sequential()\n",
        "model.add(layers.Dense(300, input_dim = input_dim,activation='relu'))\n",
        "model.add(layers.Dense(3, activation='sigmoid'))\n",
        "model.compile(loss='sparse_categorical_crossentropy', optimizer='adam', metrics=['acc'])"
      ],
      "execution_count": 46,
      "outputs": []
    },
    {
      "cell_type": "code",
      "metadata": {
        "colab": {
          "base_uri": "https://localhost:8080/"
        },
        "id": "qHXtA72efeoq",
        "outputId": "71666e65-bb36-4196-80bd-971698f5c991"
      },
      "source": [
        "model.summary() #getting the summary of my model"
      ],
      "execution_count": 47,
      "outputs": [
        {
          "output_type": "stream",
          "text": [
            "Model: \"sequential_8\"\n",
            "_________________________________________________________________\n",
            "Layer (type)                 Output Shape              Param #   \n",
            "=================================================================\n",
            "dense_16 (Dense)             (None, 300)               600300    \n",
            "_________________________________________________________________\n",
            "dense_17 (Dense)             (None, 3)                 903       \n",
            "=================================================================\n",
            "Total params: 601,203\n",
            "Trainable params: 601,203\n",
            "Non-trainable params: 0\n",
            "_________________________________________________________________\n"
          ],
          "name": "stdout"
        }
      ]
    },
    {
      "cell_type": "code",
      "metadata": {
        "colab": {
          "base_uri": "https://localhost:8080/"
        },
        "id": "actBZPwveybD",
        "outputId": "bee6e93d-209e-4c4e-d0b5-1657582b380a"
      },
      "source": [
        "history=model.fit(X_train,y_train, epochs=5, verbose=True, validation_data=(X_test,y_test), batch_size=256)"
      ],
      "execution_count": 48,
      "outputs": [
        {
          "output_type": "stream",
          "text": [
            "Epoch 1/5\n",
            "293/293 [==============================] - 6s 20ms/step - loss: 0.9218 - acc: 0.4971 - val_loss: 0.8458 - val_acc: 0.5140\n",
            "Epoch 2/5\n",
            "293/293 [==============================] - 5s 19ms/step - loss: 0.7851 - acc: 0.5869 - val_loss: 0.8417 - val_acc: 0.5138\n",
            "Epoch 3/5\n",
            "293/293 [==============================] - 5s 18ms/step - loss: 0.6731 - acc: 0.6977 - val_loss: 0.8742 - val_acc: 0.5076\n",
            "Epoch 4/5\n",
            "293/293 [==============================] - 5s 19ms/step - loss: 0.4803 - acc: 0.8359 - val_loss: 0.9521 - val_acc: 0.5068\n",
            "Epoch 5/5\n",
            "293/293 [==============================] - 6s 19ms/step - loss: 0.2700 - acc: 0.9398 - val_loss: 1.0796 - val_acc: 0.5100\n"
          ],
          "name": "stdout"
        }
      ]
    },
    {
      "cell_type": "code",
      "metadata": {
        "colab": {
          "base_uri": "https://localhost:8080/",
          "height": 295
        },
        "id": "qQBAo2pitaA8",
        "outputId": "f3e57a55-2ae4-43a3-999b-78b15cd5ccd3"
      },
      "source": [
        "plt.figure()\n",
        "plt.plot(history.history['acc'], label='Train')\n",
        "plt.plot(history.history['val_acc'], label='Test')\n",
        "plt.title('Accuracy')\n",
        "plt.ylabel('Accuracy')\n",
        "plt.xlabel('epochs')\n",
        "plt.legend()\n",
        "plt.show()"
      ],
      "execution_count": 49,
      "outputs": [
        {
          "output_type": "display_data",
          "data": {
            "image/png": "[encoded data removed]",
            "text/plain": [
              "<Figure size 432x288 with 1 Axes>"
            ]
          },
          "metadata": {
            "tags": [],
            "needs_background": "light"
          }
        }
      ]
    },
    {
      "cell_type": "code",
      "metadata": {
        "colab": {
          "base_uri": "https://localhost:8080/",
          "height": 295
        },
        "id": "DOK7DJ9QuuMk",
        "outputId": "93a1bd86-3892-4083-e312-9369ff4ea144"
      },
      "source": [
        "plt.figure()\n",
        "plt.plot(history.history['loss'], label='Train')\n",
        "plt.plot(history.history['val_loss'], label='Test')\n",
        "plt.title('Loss')\n",
        "plt.ylabel('Accuracy')\n",
        "plt.xlabel('Epochs')\n",
        "plt.legend()\n",
        "plt.show()"
      ],
      "execution_count": 50,
      "outputs": [
        {
          "output_type": "display_data",
          "data": {
            "image/png": "[encoded data removed]",
            "text/plain": [
              "<Figure size 432x288 with 1 Axes>"
            ]
          },
          "metadata": {
            "tags": [],
            "needs_background": "light"
          }
        }
      ]
    }
  ]
}