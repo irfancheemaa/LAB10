{
  "nbformat": 4,
  "nbformat_minor": 0,
  "metadata": {
    "colab": {
      "name": "LAB10_Q2.ipynb",
      "provenance": []
    },
    "kernelspec": {
      "display_name": "Python 3",
      "name": "python3"
    },
    "language_info": {
      "name": "python"
    }
  },
  "cells": [
    {
      "cell_type": "code",
      "metadata": {
        "id": "Rz2XdLq6a5w8"
      },
      "source": [
        "#import library/packages \n",
        "from keras.models import Sequential\n",
        "from keras.layers import Embedding\n",
        "from keras import layers\n",
        "from keras.preprocessing.text import Tokenizer\n",
        "import pandas as pd\n",
        "from sklearn import preprocessing\n",
        "from sklearn.model_selection import train_test_split\n",
        "from matplotlib import pyplot as plt\n",
        "from keras.preprocessing import sequence\n",
        "from keras.layers import LSTM\n",
        "from keras.layers import Flatten\n",
        "from keras.preprocessing.sequence import pad_sequences"
      ],
      "execution_count": 1,
      "outputs": []
    },
    {
      "cell_type": "code",
      "metadata": {
        "colab": {
          "base_uri": "https://localhost:8080/"
        },
        "id": "RxBkZWkoNIjy",
        "outputId": "f2018d63-ce7f-4bbc-8b25-74aef08fe4ba"
      },
      "source": [
        "df = pd.read_csv('/content/imdb_master.csv', encoding='latin-1')\n",
        "print(df.head())\n",
        "sentences = df['review'].values\n",
        "y = df['label'].values "
      ],
      "execution_count": 3,
      "outputs": [
        {
          "output_type": "stream",
          "text": [
            "   Unnamed: 0  type  ... label         file\n",
            "0           0  test  ...   neg      0_2.txt\n",
            "1           1  test  ...   neg  10000_4.txt\n",
            "2           2  test  ...   neg  10001_1.txt\n",
            "3           3  test  ...   neg  10002_3.txt\n",
            "4           4  test  ...   neg  10003_3.txt\n",
            "\n",
            "[5 rows x 5 columns]\n"
          ],
          "name": "stdout"
        }
      ]
    },
    {
      "cell_type": "code",
      "metadata": {
        "colab": {
          "base_uri": "https://localhost:8080/",
          "height": 80
        },
        "id": "0SDe_vDOm3Cn",
        "outputId": "b635fb32-128a-468b-deb5-0859bd7b026e"
      },
      "source": [
        "df.head(1)"
      ],
      "execution_count": 17,
      "outputs": [
        {
          "output_type": "execute_result",
          "data": {
            "text/html": [
              "<div>\n",
              "<style scoped>\n",
              "    .dataframe tbody tr th:only-of-type {\n",
              "        vertical-align: middle;\n",
              "    }\n",
              "\n",
              "    .dataframe tbody tr th {\n",
              "        vertical-align: top;\n",
              "    }\n",
              "\n",
              "    .dataframe thead th {\n",
              "        text-align: right;\n",
              "    }\n",
              "</style>\n",
              "<table border=\"1\" class=\"dataframe\">\n",
              "  <thead>\n",
              "    <tr style=\"text-align: right;\">\n",
              "      <th></th>\n",
              "      <th>Unnamed: 0</th>\n",
              "      <th>type</th>\n",
              "      <th>review</th>\n",
              "      <th>label</th>\n",
              "      <th>file</th>\n",
              "    </tr>\n",
              "  </thead>\n",
              "  <tbody>\n",
              "    <tr>\n",
              "      <th>0</th>\n",
              "      <td>0</td>\n",
              "      <td>test</td>\n",
              "      <td>Once again Mr. Costner has dragged out a movie...</td>\n",
              "      <td>neg</td>\n",
              "      <td>0_2.txt</td>\n",
              "    </tr>\n",
              "  </tbody>\n",
              "</table>\n",
              "</div>"
            ],
            "text/plain": [
              "   Unnamed: 0  type  ... label     file\n",
              "0           0  test  ...   neg  0_2.txt\n",
              "\n",
              "[1 rows x 5 columns]"
            ]
          },
          "metadata": {
            "tags": []
          },
          "execution_count": 17
        }
      ]
    },
    {
      "cell_type": "code",
      "metadata": {
        "colab": {
          "base_uri": "https://localhost:8080/"
        },
        "id": "EkeazZ2ylwZf",
        "outputId": "5967cb52-b33f-44fe-b124-50f964229e15"
      },
      "source": [
        "y"
      ],
      "execution_count": 16,
      "outputs": [
        {
          "output_type": "execute_result",
          "data": {
            "text/plain": [
              "array([0, 0, 0, ..., 2, 2, 2])"
            ]
          },
          "metadata": {
            "tags": []
          },
          "execution_count": 16
        }
      ]
    },
    {
      "cell_type": "code",
      "metadata": {
        "id": "rRm_BFoNNKlz"
      },
      "source": [
        "#tokenizing data \n",
        "tokenizer = Tokenizer(num_words=2000)\n",
        "tokenizer.fit_on_texts(sentences)\n",
        "#getting the vocabulary of data\n",
        "#sentences = tokenizer.texts_to_matrix(sentences)"
      ],
      "execution_count": 4,
      "outputs": []
    },
    {
      "cell_type": "code",
      "metadata": {
        "id": "Lx4kRf1rNfHb"
      },
      "source": [
        "#preparing data for embedding layer\n",
        "max_review_len = max([len(s.split()) for s in sentences])\n",
        "vocab_size = len(tokenizer.word_index)+1\n",
        "sentences = tokenizer.texts_to_sequences(sentences)\n",
        "padded_docs = pad_sequences(sentences,maxlen=max_review_len)"
      ],
      "execution_count": 5,
      "outputs": []
    },
    {
      "cell_type": "code",
      "metadata": {
        "colab": {
          "base_uri": "https://localhost:8080/"
        },
        "id": "iJUz_9RedNfz",
        "outputId": "931185ac-c75a-48aa-b13a-ed22e15f93ff"
      },
      "source": [
        "le = preprocessing.LabelEncoder() #using label encoder to encode text data\n",
        "y = le.fit_transform(y) #passing in my target label to encode \n",
        "X_train, X_test, y_train, y_test = train_test_split(padded_docs, y, test_size=0.25, random_state = 1000) #traning data\n",
        "X_train.shape,y_train.shape"
      ],
      "execution_count": 6,
      "outputs": [
        {
          "output_type": "execute_result",
          "data": {
            "text/plain": [
              "((75000, 2470), (75000,))"
            ]
          },
          "metadata": {
            "tags": []
          },
          "execution_count": 6
        }
      ]
    },
    {
      "cell_type": "code",
      "metadata": {
        "id": "3795lZoR6Vpz"
      },
      "source": [
        "#number of features \n",
        "input_dim = 2470\n",
        "model = Sequential()\n",
        "model.add(Embedding(vocab_size, 50, input_length=max_review_len))\n",
        "\n",
        "model.add(Flatten())\n",
        "model.add(layers.Dense(300, input_dim = input_dim,activation='relu'))\n",
        "model.add(layers.Dense(3, activation='sigmoid'))\n",
        "model.compile(loss='sparse_categorical_crossentropy', optimizer='adam', metrics=['acc'])"
      ],
      "execution_count": 10,
      "outputs": []
    },
    {
      "cell_type": "code",
      "metadata": {
        "colab": {
          "base_uri": "https://localhost:8080/"
        },
        "id": "Brmxb66zQLbT",
        "outputId": "ad838322-6d03-4d1c-fd63-38f41696c5d6"
      },
      "source": [
        "model.summary() #getting the summary of my model"
      ],
      "execution_count": 11,
      "outputs": [
        {
          "output_type": "stream",
          "text": [
            "Model: \"sequential_1\"\n",
            "_________________________________________________________________\n",
            "Layer (type)                 Output Shape              Param #   \n",
            "=================================================================\n",
            "embedding_1 (Embedding)      (None, 2470, 50)          8820400   \n",
            "_________________________________________________________________\n",
            "flatten_1 (Flatten)          (None, 123500)            0         \n",
            "_________________________________________________________________\n",
            "dense_2 (Dense)              (None, 300)               37050300  \n",
            "_________________________________________________________________\n",
            "dense_3 (Dense)              (None, 3)                 903       \n",
            "=================================================================\n",
            "Total params: 45,871,603\n",
            "Trainable params: 45,871,603\n",
            "Non-trainable params: 0\n",
            "_________________________________________________________________\n"
          ],
          "name": "stdout"
        }
      ]
    },
    {
      "cell_type": "code",
      "metadata": {
        "colab": {
          "base_uri": "https://localhost:8080/"
        },
        "id": "zV6JNlY7QPOf",
        "outputId": "af03f858-699c-416a-ed06-ec22799047e6"
      },
      "source": [
        "history=model.fit(X_train,y_train, epochs=5, verbose=True, validation_data=(X_test,y_test), batch_size=256)"
      ],
      "execution_count": 12,
      "outputs": [
        {
          "output_type": "stream",
          "text": [
            "Epoch 1/5\n",
            "293/293 [==============================] - 451s 2s/step - loss: 1.5018 - acc: 0.4744 - val_loss: 0.8753 - val_acc: 0.5010\n",
            "Epoch 2/5\n",
            "293/293 [==============================] - 453s 2s/step - loss: 0.8480 - acc: 0.5171 - val_loss: 0.8543 - val_acc: 0.5026\n",
            "Epoch 3/5\n",
            "293/293 [==============================] - 452s 2s/step - loss: 0.7892 - acc: 0.5608 - val_loss: 0.8558 - val_acc: 0.5015\n",
            "Epoch 4/5\n",
            "293/293 [==============================] - 452s 2s/step - loss: 0.7040 - acc: 0.6425 - val_loss: 0.9072 - val_acc: 0.4947\n",
            "Epoch 5/5\n",
            "293/293 [==============================] - 454s 2s/step - loss: 0.5690 - acc: 0.7408 - val_loss: 1.0150 - val_acc: 0.4866\n"
          ],
          "name": "stdout"
        }
      ]
    },
    {
      "cell_type": "code",
      "metadata": {
        "colab": {
          "base_uri": "https://localhost:8080/",
          "height": 295
        },
        "id": "qQBAo2pitaA8",
        "outputId": "2f40fb31-813b-4d81-ed19-b4d0d8df0f02"
      },
      "source": [
        "plt.figure()\n",
        "plt.plot(history.history['acc'], label='Train')\n",
        "plt.plot(history.history['val_acc'], label='Test')\n",
        "plt.title('Accuracy')\n",
        "plt.ylabel('Accuracy')\n",
        "plt.xlabel('epochs')\n",
        "plt.legend()\n",
        "plt.show()"
      ],
      "execution_count": 13,
      "outputs": [
        {
          "output_type": "display_data",
          "data": {
            "image/png": "[encoded data removed]",
            "text/plain": [
              "<Figure size 432x288 with 1 Axes>"
            ]
          },
          "metadata": {
            "tags": [],
            "needs_background": "light"
          }
        }
      ]
    },
    {
      "cell_type": "code",
      "metadata": {
        "colab": {
          "base_uri": "https://localhost:8080/",
          "height": 295
        },
        "id": "b_374UjZUgHE",
        "outputId": "eb5143d7-27d6-47fd-99e4-ba55acc0eacb"
      },
      "source": [
        "plt.figure()\n",
        "plt.plot(history.history['loss'], label='Train')\n",
        "plt.plot(history.history['val_loss'], label='Test')\n",
        "plt.title('Loss')\n",
        "plt.ylabel('Accuracy')\n",
        "plt.xlabel('Epochs')\n",
        "plt.legend()\n",
        "plt.show()"
      ],
      "execution_count": 14,
      "outputs": [
        {
          "output_type": "display_data",
          "data": {
            "image/png": "[encoded data removed]",
            "text/plain": [
              "<Figure size 432x288 with 1 Axes>"
            ]
          },
          "metadata": {
            "tags": [],
            "needs_background": "light"
          }
        }
      ]
    }
  ]
}